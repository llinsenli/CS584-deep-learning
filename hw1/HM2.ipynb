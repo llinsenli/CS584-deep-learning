{
 "cells": [
  {
   "cell_type": "markdown",
   "metadata": {},
   "source": [
    "# HM2: Numerical Optimization for Logistic Regression.\n",
    "\n",
    "### Name: Linsen Li\n"
   ]
  },
  {
   "cell_type": "markdown",
   "metadata": {},
   "source": [
    "## 0. You will do the following:\n",
    "\n",
    "1. Read the lecture note: [click here](https://github.com/wangshusen/DeepLearning/blob/master/LectureNotes/Logistic/paper/logistic.pdf)\n",
    "\n",
    "2. Read, complete, and run my code.\n",
    "\n",
    "3. **Implement mini-batch SGD** and evaluate the performance.\n",
    "\n",
    "4. Convert the .IPYNB file to .HTML file.\n",
    "\n",
    "    * The HTML file must contain **the code** and **the output after execution**.\n",
    "    \n",
    "    * Missing **the output after execution** will not be graded.\n",
    "    \n",
    "5. Upload this .HTML file to your Google Drive, Dropbox, or your Github repo.  (If you submit the file to Google Drive or Dropbox, you must make the file \"open-access\". The delay caused by \"deny of access\" may result in late penalty.)\n",
    "\n",
    "6. Submit the link to this .HTML file to Canvas.\n",
    "\n",
    "    * Example: https://github.com/wangshusen/CS583-2020S/blob/master/homework/HM2/HM2.html\n",
    "\n",
    "\n",
    "## Grading criteria:\n",
    "\n",
    "1. When computing the ```gradient``` and ```objective function value``` using a batch of samples, use **matrix-vector multiplication** rather than a FOR LOOP of **vector-vector multiplications**.\n",
    "\n",
    "2. Plot ```objective function value``` against ```epochs```. In the plot, compare GD, SGD, and MB-SGD (with $b=8$ and $b=64$). The plot must look reasonable."
   ]
  },
  {
   "cell_type": "code",
   "execution_count": null,
   "metadata": {},
   "outputs": [],
   "source": []
  },
  {
   "cell_type": "markdown",
   "metadata": {},
   "source": [
    "# 1. Data processing\n",
    "\n",
    "- Download the Diabete dataset from https://www.csie.ntu.edu.tw/~cjlin/libsvmtools/datasets/binary/diabetes\n",
    "- Load the data using sklearn.\n",
    "- Preprocess the data."
   ]
  },
  {
   "cell_type": "markdown",
   "metadata": {},
   "source": [
    "## 1.1. Load the data"
   ]
  },
  {
   "cell_type": "code",
   "execution_count": 25,
   "metadata": {},
   "outputs": [
    {
     "name": "stdout",
     "output_type": "stream",
     "text": [
      "Shape of x: (768, 8)\n",
      "Shape of y: (768,)\n"
     ]
    }
   ],
   "source": [
    "from sklearn import datasets\n",
    "import numpy\n",
    "\n",
    "x_sparse, y = datasets.load_svmlight_file('diabetes')\n",
    "x = x_sparse.todense()\n",
    "\n",
    "print('Shape of x: ' + str(x.shape))\n",
    "print('Shape of y: ' + str(y.shape))"
   ]
  },
  {
   "cell_type": "markdown",
   "metadata": {},
   "source": [
    "## 1.2. Partition to training and test sets"
   ]
  },
  {
   "cell_type": "code",
   "execution_count": 26,
   "metadata": {},
   "outputs": [
    {
     "name": "stdout",
     "output_type": "stream",
     "text": [
      "Shape of x_train: (640, 8)\n",
      "Shape of x_test: (128, 8)\n",
      "Shape of y_train: (640, 1)\n",
      "Shape of y_test: (128, 1)\n"
     ]
    }
   ],
   "source": [
    "# partition the data to training and test sets\n",
    "n = x.shape[0]\n",
    "n_train = 640\n",
    "n_test = n - n_train\n",
    "\n",
    "rand_indices = numpy.random.permutation(n)\n",
    "train_indices = rand_indices[0:n_train]\n",
    "test_indices = rand_indices[n_train:n]\n",
    "\n",
    "x_train = x[train_indices, :]\n",
    "x_test = x[test_indices, :]\n",
    "y_train = y[train_indices].reshape(n_train, 1)\n",
    "y_test = y[test_indices].reshape(n_test, 1)\n",
    "\n",
    "print('Shape of x_train: ' + str(x_train.shape))\n",
    "print('Shape of x_test: ' + str(x_test.shape))\n",
    "print('Shape of y_train: ' + str(y_train.shape))\n",
    "print('Shape of y_test: ' + str(y_test.shape))"
   ]
  },
  {
   "cell_type": "markdown",
   "metadata": {},
   "source": [
    "## 1.3. Feature scaling"
   ]
  },
  {
   "cell_type": "markdown",
   "metadata": {},
   "source": [
    "Use the standardization to trainsform both training and test features"
   ]
  },
  {
   "cell_type": "code",
   "execution_count": 27,
   "metadata": {},
   "outputs": [
    {
     "name": "stdout",
     "output_type": "stream",
     "text": [
      "test mean = \n",
      "[[ 0.03068968 -0.09651362 -0.03243616 -0.00740733 -0.12968113 -0.02612625\n",
      "   0.02938506 -0.14351277]]\n",
      "test std = \n",
      "[[1.10070194 0.94858589 0.94725251 0.9659631  0.66625904 0.97419984\n",
      "  1.16160584 0.85404146]]\n"
     ]
    }
   ],
   "source": [
    "# Standardization\n",
    "import numpy\n",
    "\n",
    "# calculate mu and sig using the training set\n",
    "d = x_train.shape[1]\n",
    "mu = numpy.mean(x_train, axis=0).reshape(1, d)\n",
    "sig = numpy.std(x_train, axis=0).reshape(1, d)\n",
    "\n",
    "# transform the training features\n",
    "x_train = (x_train - mu) / (sig + 1E-6)\n",
    "\n",
    "# transform the test features\n",
    "x_test = (x_test - mu) / (sig + 1E-6)\n",
    "\n",
    "print('test mean = ')\n",
    "print(numpy.mean(x_test, axis=0))\n",
    "\n",
    "print('test std = ')\n",
    "print(numpy.std(x_test, axis=0))"
   ]
  },
  {
   "cell_type": "markdown",
   "metadata": {},
   "source": [
    "## 1.4. Add a dimension of all ones"
   ]
  },
  {
   "cell_type": "code",
   "execution_count": 28,
   "metadata": {},
   "outputs": [
    {
     "name": "stdout",
     "output_type": "stream",
     "text": [
      "Shape of x_train: (640, 9)\n",
      "Shape of x_test: (128, 9)\n"
     ]
    }
   ],
   "source": [
    "n_train, d = x_train.shape\n",
    "x_train = numpy.concatenate((x_train, numpy.ones((n_train, 1))), axis=1)\n",
    "\n",
    "n_test, d = x_test.shape\n",
    "x_test = numpy.concatenate((x_test, numpy.ones((n_test, 1))), axis=1)\n",
    "\n",
    "print('Shape of x_train: ' + str(x_train.shape))\n",
    "print('Shape of x_test: ' + str(x_test.shape))"
   ]
  },
  {
   "cell_type": "markdown",
   "metadata": {},
   "source": [
    "# 2. Logistic regression model\n",
    "\n",
    "The objective function is $Q (w; X, y) = \\frac{1}{n} \\sum_{i=1}^n \\log \\Big( 1 + \\exp \\big( - y_i x_i^T w \\big) \\Big) + \\frac{\\lambda}{2} \\| w \\|_2^2 $."
   ]
  },
  {
   "cell_type": "code",
   "execution_count": 29,
   "metadata": {},
   "outputs": [],
   "source": [
    "# Calculate the objective function value\n",
    "# Inputs:\n",
    "#     w: d-by-1 matrix\n",
    "#     x: n-by-d matrix\n",
    "#     y: n-by-1 matrix\n",
    "#     lam: scalar, the regularization parameter\n",
    "# Return:\n",
    "#     objective function value (scalar)\n",
    "def objective(w, x, y, lam):\n",
    "    n, d = x.shape\n",
    "    yx = numpy.multiply(y, x) # n-by-d matrix\n",
    "    yxw = numpy.dot(yx, w) # n-by-1 matrix\n",
    "    vec1 = numpy.exp(-yxw) # n-by-1 matrix\n",
    "    vec2 = numpy.log(1 + vec1) # n-by-1 matrix\n",
    "    loss = numpy.mean(vec2) # scalar\n",
    "    reg = lam / 2 * numpy.sum(w * w) # scalar\n",
    "    return loss + reg\n",
    "    "
   ]
  },
  {
   "cell_type": "code",
   "execution_count": 30,
   "metadata": {},
   "outputs": [
    {
     "name": "stdout",
     "output_type": "stream",
     "text": [
      "Initial objective function value = 0.6931471805599453\n"
     ]
    }
   ],
   "source": [
    "# initialize w\n",
    "d = x_train.shape[1]\n",
    "w = numpy.zeros((d, 1))\n",
    "\n",
    "# evaluate the objective function value at w\n",
    "lam = 1E-6\n",
    "objval0 = objective(w, x_train, y_train, lam)\n",
    "print('Initial objective function value = ' + str(objval0))"
   ]
  },
  {
   "cell_type": "markdown",
   "metadata": {},
   "source": [
    "# 3. Numerical optimization"
   ]
  },
  {
   "cell_type": "markdown",
   "metadata": {},
   "source": [
    "## 3.1. Gradient descent\n"
   ]
  },
  {
   "cell_type": "markdown",
   "metadata": {},
   "source": [
    "The gradient at $w$ is $g = - \\frac{1}{n} \\sum_{i=1}^n \\frac{y_i x_i }{1 + \\exp ( y_i x_i^T w)} + \\lambda w$"
   ]
  },
  {
   "cell_type": "code",
   "execution_count": 31,
   "metadata": {},
   "outputs": [],
   "source": [
    "# Calculate the gradient\n",
    "# Inputs:\n",
    "#     w: d-by-1 matrix\n",
    "#     x: n-by-d matrix\n",
    "#     y: n-by-1 matrix\n",
    "#     lam: scalar, the regularization parameter\n",
    "# Return:\n",
    "#     g: g: d-by-1 matrix, full gradient\n",
    "def gradient(w, x, y, lam):\n",
    "    n, d = x.shape\n",
    "    yx = numpy.multiply(y, x) # n-by-d matrix\n",
    "    yxw = numpy.dot(yx, w) # n-by-1 matrix\n",
    "    vec1 = numpy.exp(yxw) # n-by-1 matrix\n",
    "    vec2 = numpy.divide(yx, 1+vec1) # n-by-d matrix\n",
    "    vec3 = -numpy.mean(vec2, axis=0).reshape(d, 1) # d-by-1 matrix\n",
    "    g = vec3 + lam * w\n",
    "    return g"
   ]
  },
  {
   "cell_type": "code",
   "execution_count": 32,
   "metadata": {},
   "outputs": [],
   "source": [
    "# Gradient descent for solving logistic regression\n",
    "# Inputs:\n",
    "#     x: n-by-d matrix\n",
    "#     y: n-by-1 matrix\n",
    "#     lam: scalar, the regularization parameter\n",
    "#     stepsize: scalar\n",
    "#     max_iter: integer, the maximal iterations\n",
    "#     w: d-by-1 matrix, initialization of w\n",
    "# Return:\n",
    "#     w: d-by-1 matrix, the solution\n",
    "#     objvals: a record of each iteration's objective value\n",
    "def grad_descent(x, y, lam, stepsize, max_iter=100, w=None):\n",
    "    n, d = x.shape\n",
    "    objvals = numpy.zeros(max_iter) # store the objective values\n",
    "    if w is None:\n",
    "        w = numpy.zeros((d, 1)) # zero initialization\n",
    "    \n",
    "    for t in range(max_iter):\n",
    "        objval = objective(w, x, y, lam)\n",
    "        objvals[t] = objval\n",
    "        print('Objective value at t=' + str(t) + ' is ' + str(objval))\n",
    "        g = gradient(w, x, y, lam)\n",
    "        w -= stepsize * g\n",
    "    \n",
    "    return w, objvals"
   ]
  },
  {
   "cell_type": "markdown",
   "metadata": {},
   "source": [
    "Run gradient descent."
   ]
  },
  {
   "cell_type": "code",
   "execution_count": 33,
   "metadata": {},
   "outputs": [
    {
     "name": "stdout",
     "output_type": "stream",
     "text": [
      "Objective value at t=0 is 0.6931471805599453\n",
      "Objective value at t=1 is 0.5907985047027411\n",
      "Objective value at t=2 is 0.5488199184260355\n",
      "Objective value at t=3 is 0.5263994128652241\n",
      "Objective value at t=4 is 0.5125339337103073\n",
      "Objective value at t=5 is 0.5032190298008168\n",
      "Objective value at t=6 is 0.49663033876663804\n",
      "Objective value at t=7 is 0.4918046908556489\n",
      "Objective value at t=8 is 0.488180043871805\n",
      "Objective value at t=9 is 0.48540459021635174\n",
      "Objective value at t=10 is 0.48324664769726605\n",
      "Objective value at t=11 is 0.4815477245798544\n",
      "Objective value at t=12 is 0.48019614493815643\n",
      "Objective value at t=13 is 0.4791113288292345\n",
      "Objective value at t=14 is 0.4782339807301546\n",
      "Objective value at t=15 is 0.47751973669329495\n",
      "Objective value at t=16 is 0.4769349264520804\n",
      "Objective value at t=17 is 0.47645367539911604\n",
      "Objective value at t=18 is 0.4760558805793076\n",
      "Objective value at t=19 is 0.4757257710042624\n",
      "Objective value at t=20 is 0.4754508669431268\n",
      "Objective value at t=21 is 0.4752212167070626\n",
      "Objective value at t=22 is 0.475028829622595\n",
      "Objective value at t=23 is 0.4748672497712066\n",
      "Objective value at t=24 is 0.47473123209154594\n",
      "Objective value at t=25 is 0.4746164938363538\n",
      "Objective value at t=26 is 0.47451952213159176\n",
      "Objective value at t=27 is 0.47443742374149855\n",
      "Objective value at t=28 is 0.47436780689288455\n",
      "Objective value at t=29 is 0.47430868766978973\n",
      "Objective value at t=30 is 0.4742584153955963\n",
      "Objective value at t=31 is 0.4742156128014038\n",
      "Objective value at t=32 is 0.47417912779140636\n",
      "Objective value at t=33 is 0.4741479943642639\n",
      "Objective value at t=34 is 0.4741214008077414\n",
      "Objective value at t=35 is 0.47409866370402337\n",
      "Objective value at t=36 is 0.4740792066017985\n",
      "Objective value at t=37 is 0.4740625424548088\n",
      "Objective value at t=38 is 0.47404825911409043\n",
      "Objective value at t=39 is 0.4740360073064775\n",
      "Objective value at t=40 is 0.47402549064531546\n",
      "Objective value at t=41 is 0.47401645730829306\n",
      "Objective value at t=42 is 0.474008693087508\n",
      "Objective value at t=43 is 0.47400201557258353\n",
      "Objective value at t=44 is 0.47399626927206656\n",
      "Objective value at t=45 is 0.4739913215139215\n",
      "Objective value at t=46 is 0.4739870589945678\n",
      "Objective value at t=47 is 0.4739833848690503\n",
      "Objective value at t=48 is 0.4739802162937016\n",
      "Objective value at t=49 is 0.4739774823479484\n",
      "Objective value at t=50 is 0.4739751222743974\n",
      "Objective value at t=51 is 0.473973083986584\n",
      "Objective value at t=52 is 0.47397132280218607\n",
      "Objective value at t=53 is 0.47396980036644665\n",
      "Objective value at t=54 is 0.47396848373629863\n",
      "Objective value at t=55 is 0.47396734460044176\n",
      "Objective value at t=56 is 0.47396635861457875\n",
      "Objective value at t=57 is 0.47396550483431515\n",
      "Objective value at t=58 is 0.47396476523097747\n",
      "Objective value at t=59 is 0.4739641242779031\n",
      "Objective value at t=60 is 0.4739635685966816\n",
      "Objective value at t=61 is 0.47396308665445075\n",
      "Objective value at t=62 is 0.47396266850470137\n",
      "Objective value at t=63 is 0.4739623055651978\n",
      "Objective value at t=64 is 0.47396199042758047\n",
      "Objective value at t=65 is 0.47396171669403614\n",
      "Objective value at t=66 is 0.47396147883710754\n",
      "Objective value at t=67 is 0.4739612720793002\n",
      "Objective value at t=68 is 0.473961092289634\n",
      "Objective value at t=69 is 0.47396093589471155\n",
      "Objective value at t=70 is 0.4739607998022275\n",
      "Objective value at t=71 is 0.4739606813351476\n",
      "Objective value at t=72 is 0.4739605781750427\n",
      "Objective value at t=73 is 0.47396048831328047\n",
      "Objective value at t=74 is 0.4739604100089701\n",
      "Objective value at t=75 is 0.4739603417527073\n",
      "Objective value at t=76 is 0.4739602822353061\n",
      "Objective value at t=77 is 0.47396023032082313\n",
      "Objective value at t=78 is 0.47396018502327264\n",
      "Objective value at t=79 is 0.47396014548652016\n",
      "Objective value at t=80 is 0.4739601109669151\n",
      "Objective value at t=81 is 0.47396008081828184\n",
      "Objective value at t=82 is 0.47396005447894446\n",
      "Objective value at t=83 is 0.4739600314605058\n",
      "Objective value at t=84 is 0.47396001133813953\n",
      "Objective value at t=85 is 0.47395999374218817\n",
      "Objective value at t=86 is 0.47395997835088854\n",
      "Objective value at t=87 is 0.47395996488407116\n",
      "Objective value at t=88 is 0.4739599530977013\n",
      "Objective value at t=89 is 0.4739599427791479\n",
      "Objective value at t=90 is 0.47395993374308043\n",
      "Objective value at t=91 is 0.47395992582791097\n",
      "Objective value at t=92 is 0.47395991889270667\n",
      "Objective value at t=93 is 0.4739599128145099\n",
      "Objective value at t=94 is 0.473959907486011\n",
      "Objective value at t=95 is 0.4739599028135278\n",
      "Objective value at t=96 is 0.4739598987152489\n",
      "Objective value at t=97 is 0.473959895119708\n",
      "Objective value at t=98 is 0.47395989196445565\n",
      "Objective value at t=99 is 0.4739598891949064\n"
     ]
    }
   ],
   "source": [
    "lam = 1E-6\n",
    "stepsize = 1.0\n",
    "w, objvals_gd = grad_descent(x_train, y_train, lam, stepsize)"
   ]
  },
  {
   "cell_type": "markdown",
   "metadata": {},
   "source": [
    "## 3.2. Stochastic gradient descent (SGD)\n",
    "\n",
    "Define $Q_i (w) = \\log \\Big( 1 + \\exp \\big( - y_i x_i^T w \\big) \\Big) + \\frac{\\lambda}{2} \\| w \\|_2^2 $.\n",
    "\n",
    "The stochastic gradient at $w$ is $g_i = \\frac{\\partial Q_i }{ \\partial w} = -\\frac{y_i x_i }{1 + \\exp ( y_i x_i^T w)} + \\lambda w$."
   ]
  },
  {
   "cell_type": "code",
   "execution_count": 34,
   "metadata": {},
   "outputs": [],
   "source": [
    "# Calculate the objective Q_i and the gradient of Q_i\n",
    "# Inputs:\n",
    "#     w: d-by-1 matrix\n",
    "#     xi: 1-by-d matrix\n",
    "#     yi: scalar\n",
    "#     lam: scalar, the regularization parameter\n",
    "# Return:\n",
    "#     obj: scalar, the objective Q_i\n",
    "#     g: d-by-1 matrix, gradient of Q_i\n",
    "def stochastic_objective_gradient(w, xi, yi, lam):\n",
    "    d = xi.shape[0]\n",
    "    yx = yi * xi # 1-by-d matrix\n",
    "    yxw = float(numpy.dot(yx, w)) # scalar\n",
    "    \n",
    "    # calculate objective function Q_i\n",
    "    loss = numpy.log(1 + numpy.exp(-yxw)) # scalar\n",
    "    reg = lam / 2 * numpy.sum(w * w) # scalar\n",
    "    obj = loss + reg\n",
    "    \n",
    "    # calculate stochastic gradient\n",
    "    g_loss = -yx.T / (1 + numpy.exp(yxw)) # d-by-1 matrix\n",
    "    g = g_loss + lam * w # d-by-1 matrix\n",
    "    \n",
    "    return obj, g"
   ]
  },
  {
   "cell_type": "code",
   "execution_count": 35,
   "metadata": {},
   "outputs": [],
   "source": [
    "# SGD for solving logistic regression\n",
    "# Inputs:\n",
    "#     x: n-by-d matrix\n",
    "#     y: n-by-1 matrix\n",
    "#     lam: scalar, the regularization parameter\n",
    "#     stepsize: scalar\n",
    "#     max_epoch: integer, the maximal epochs\n",
    "#     w: d-by-1 matrix, initialization of w\n",
    "# Return:\n",
    "#     w: the solution\n",
    "#     objvals: record of each iteration's objective value\n",
    "def sgd(x, y, lam, stepsize, max_epoch=100, w=None):\n",
    "    n, d = x.shape\n",
    "    objvals = numpy.zeros(max_epoch) # store the objective values\n",
    "    if w is None:\n",
    "        w = numpy.zeros((d, 1)) # zero initialization\n",
    "    \n",
    "    for t in range(max_epoch):\n",
    "        # randomly shuffle the samples\n",
    "        rand_indices = numpy.random.permutation(n)\n",
    "        x_rand = x[rand_indices, :]\n",
    "        y_rand = y[rand_indices, :]\n",
    "        \n",
    "        objval = 0 # accumulate the objective values\n",
    "        for i in range(n):\n",
    "            xi = x_rand[i, :] # 1-by-d matrix\n",
    "            yi = float(y_rand[i, :]) # scalar\n",
    "            obj, g = stochastic_objective_gradient(w, xi, yi, lam)\n",
    "            objval += obj\n",
    "            w -= stepsize * g\n",
    "        \n",
    "        stepsize *= 0.9 # decrease step size\n",
    "        objval /= n\n",
    "        objvals[t] = objval\n",
    "        print('Objective value at epoch t=' + str(t) + ' is ' + str(objval))\n",
    "    \n",
    "    return w, objvals"
   ]
  },
  {
   "cell_type": "markdown",
   "metadata": {},
   "source": [
    "Run SGD."
   ]
  },
  {
   "cell_type": "code",
   "execution_count": 36,
   "metadata": {},
   "outputs": [
    {
     "name": "stdout",
     "output_type": "stream",
     "text": [
      "Objective value at epoch t=0 is 0.5340256235616825\n",
      "Objective value at epoch t=1 is 0.5201917153950805\n",
      "Objective value at epoch t=2 is 0.5209836511394085\n",
      "Objective value at epoch t=3 is 0.5082339352759307\n",
      "Objective value at epoch t=4 is 0.5073683916771909\n",
      "Objective value at epoch t=5 is 0.4991648749783934\n",
      "Objective value at epoch t=6 is 0.5072391462343773\n",
      "Objective value at epoch t=7 is 0.502049353924636\n",
      "Objective value at epoch t=8 is 0.5011840367404836\n",
      "Objective value at epoch t=9 is 0.4942354200205014\n",
      "Objective value at epoch t=10 is 0.4959696347471758\n",
      "Objective value at epoch t=11 is 0.4960365917574833\n",
      "Objective value at epoch t=12 is 0.4911590578232203\n",
      "Objective value at epoch t=13 is 0.4902664931367515\n",
      "Objective value at epoch t=14 is 0.4862434495935924\n",
      "Objective value at epoch t=15 is 0.48731061365982864\n",
      "Objective value at epoch t=16 is 0.4859258116100171\n",
      "Objective value at epoch t=17 is 0.48468543004678527\n",
      "Objective value at epoch t=18 is 0.4840526952488163\n",
      "Objective value at epoch t=19 is 0.4832312473106194\n",
      "Objective value at epoch t=20 is 0.4822172002903389\n",
      "Objective value at epoch t=21 is 0.48170401264598156\n",
      "Objective value at epoch t=22 is 0.48042987912954577\n",
      "Objective value at epoch t=23 is 0.4794457852868594\n",
      "Objective value at epoch t=24 is 0.47948693478447024\n",
      "Objective value at epoch t=25 is 0.479179968527178\n",
      "Objective value at epoch t=26 is 0.47792861845469403\n",
      "Objective value at epoch t=27 is 0.4780705086300066\n",
      "Objective value at epoch t=28 is 0.47772350590323154\n",
      "Objective value at epoch t=29 is 0.4771728731800766\n",
      "Objective value at epoch t=30 is 0.47706011443217305\n",
      "Objective value at epoch t=31 is 0.4767606913443134\n",
      "Objective value at epoch t=32 is 0.47647037087893407\n",
      "Objective value at epoch t=33 is 0.47615819344828375\n",
      "Objective value at epoch t=34 is 0.47600164034681847\n",
      "Objective value at epoch t=35 is 0.4758203664953881\n",
      "Objective value at epoch t=36 is 0.4756166216548962\n",
      "Objective value at epoch t=37 is 0.47547812119847965\n",
      "Objective value at epoch t=38 is 0.47533286493844884\n",
      "Objective value at epoch t=39 is 0.4751984857486594\n",
      "Objective value at epoch t=40 is 0.4750691805931161\n",
      "Objective value at epoch t=41 is 0.47495106093941325\n",
      "Objective value at epoch t=42 is 0.4748583759787744\n",
      "Objective value at epoch t=43 is 0.47477282539093935\n",
      "Objective value at epoch t=44 is 0.4746803317479544\n",
      "Objective value at epoch t=45 is 0.4746156776543911\n",
      "Objective value at epoch t=46 is 0.4745514038860712\n",
      "Objective value at epoch t=47 is 0.4744934897128118\n",
      "Objective value at epoch t=48 is 0.47444121429780395\n",
      "Objective value at epoch t=49 is 0.4743907174489534\n",
      "Objective value at epoch t=50 is 0.4743483276714874\n",
      "Objective value at epoch t=51 is 0.4743030010512051\n",
      "Objective value at epoch t=52 is 0.4742758527355728\n",
      "Objective value at epoch t=53 is 0.4742434568569821\n",
      "Objective value at epoch t=54 is 0.47421329737498913\n",
      "Objective value at epoch t=55 is 0.4741896734635428\n",
      "Objective value at epoch t=56 is 0.4741679706870848\n",
      "Objective value at epoch t=57 is 0.4741471326068102\n",
      "Objective value at epoch t=58 is 0.4741282855756651\n",
      "Objective value at epoch t=59 is 0.47411149260409047\n",
      "Objective value at epoch t=60 is 0.4740964471468548\n",
      "Objective value at epoch t=61 is 0.4740826128476079\n",
      "Objective value at epoch t=62 is 0.47407054866138293\n",
      "Objective value at epoch t=63 is 0.4740594904384018\n",
      "Objective value at epoch t=64 is 0.47404962194398975\n",
      "Objective value at epoch t=65 is 0.4740406977944026\n",
      "Objective value at epoch t=66 is 0.4740326712071453\n",
      "Objective value at epoch t=67 is 0.4740253627394269\n",
      "Objective value at epoch t=68 is 0.47401894077969436\n",
      "Objective value at epoch t=69 is 0.474013013742685\n",
      "Objective value at epoch t=70 is 0.474007707116365\n",
      "Objective value at epoch t=71 is 0.47400300108494786\n",
      "Objective value at epoch t=72 is 0.47399872723976494\n",
      "Objective value at epoch t=73 is 0.47399485023305593\n",
      "Objective value at epoch t=74 is 0.4739913970218582\n",
      "Objective value at epoch t=75 is 0.4739882477513107\n",
      "Objective value at epoch t=76 is 0.4739854603051212\n",
      "Objective value at epoch t=77 is 0.47398292917605256\n",
      "Objective value at epoch t=78 is 0.47398065126642475\n",
      "Objective value at epoch t=79 is 0.4739786027596229\n",
      "Objective value at epoch t=80 is 0.47397675892688385\n",
      "Objective value at epoch t=81 is 0.47397509547377786\n",
      "Objective value at epoch t=82 is 0.4739736028278864\n",
      "Objective value at epoch t=83 is 0.47397226048260344\n",
      "Objective value at epoch t=84 is 0.4739710486345191\n",
      "Objective value at epoch t=85 is 0.473969958685311\n",
      "Objective value at epoch t=86 is 0.4739689786152745\n",
      "Objective value at epoch t=87 is 0.4739680953930624\n",
      "Objective value at epoch t=88 is 0.4739673003264895\n",
      "Objective value at epoch t=89 is 0.4739665862067673\n",
      "Objective value at epoch t=90 is 0.47396594304953554\n",
      "Objective value at epoch t=91 is 0.47396536366862163\n",
      "Objective value at epoch t=92 is 0.47396484158042274\n",
      "Objective value at epoch t=93 is 0.47396437332981495\n",
      "Objective value at epoch t=94 is 0.4739639509738125\n",
      "Objective value at epoch t=95 is 0.4739635708965652\n",
      "Objective value at epoch t=96 is 0.4739632290475629\n",
      "Objective value at epoch t=97 is 0.47396292117867456\n",
      "Objective value at epoch t=98 is 0.473962644127991\n",
      "Objective value at epoch t=99 is 0.47396239463494866\n"
     ]
    }
   ],
   "source": [
    "lam = 1E-6\n",
    "stepsize = 0.1\n",
    "w, objvals_sgd = sgd(x_train, y_train, lam, stepsize)"
   ]
  },
  {
   "cell_type": "markdown",
   "metadata": {},
   "source": [
    "# 4. Compare GD with SGD\n",
    "\n",
    "Plot objective function values against epochs."
   ]
  },
  {
   "cell_type": "code",
   "execution_count": 37,
   "metadata": {},
   "outputs": [
    {
     "data": {
      "image/png": "[encoded data removed]",
      "text/plain": [
       "<Figure size 432x288 with 1 Axes>"
      ]
     },
     "metadata": {
      "needs_background": "light"
     },
     "output_type": "display_data"
    }
   ],
   "source": [
    "import matplotlib.pyplot as plt\n",
    "%matplotlib inline\n",
    "\n",
    "fig = plt.figure(figsize=(6, 4))\n",
    "\n",
    "epochs_gd = range(len(objvals_gd))\n",
    "epochs_sgd = range(len(objvals_sgd))\n",
    "\n",
    "line0, = plt.plot(epochs_gd, objvals_gd, '--b', LineWidth=4)\n",
    "line1, = plt.plot(epochs_sgd, objvals_sgd, '-r', LineWidth=2)\n",
    "plt.xlabel('Epochs', FontSize=20)\n",
    "plt.ylabel('Objective Value', FontSize=20)\n",
    "plt.xticks(FontSize=16)\n",
    "plt.yticks(FontSize=16)\n",
    "plt.legend([line0, line1], ['GD', 'SGD'], fontsize=20)\n",
    "plt.tight_layout()\n",
    "plt.show()\n",
    "fig.savefig('compare_gd_sgd.pdf', format='pdf', dpi=1200)"
   ]
  },
  {
   "cell_type": "markdown",
   "metadata": {},
   "source": [
    "# 5. Prediction"
   ]
  },
  {
   "cell_type": "code",
   "execution_count": 38,
   "metadata": {},
   "outputs": [],
   "source": [
    "# Predict class label\n",
    "# Inputs:\n",
    "#     w: d-by-1 matrix\n",
    "#     X: m-by-d matrix\n",
    "# Return:\n",
    "#     f: m-by-1 matrix, the predictions\n",
    "def predict(w, X):\n",
    "    xw = numpy.dot(X, w)\n",
    "    f = numpy.sign(xw)\n",
    "    return f"
   ]
  },
  {
   "cell_type": "code",
   "execution_count": 39,
   "metadata": {},
   "outputs": [
    {
     "name": "stdout",
     "output_type": "stream",
     "text": [
      "Training classification error is 0.225\n"
     ]
    }
   ],
   "source": [
    "# evaluate training error\n",
    "f_train = predict(w, x_train)\n",
    "diff = numpy.abs(f_train - y_train) / 2\n",
    "error_train = numpy.mean(diff)\n",
    "print('Training classification error is ' + str(error_train))"
   ]
  },
  {
   "cell_type": "code",
   "execution_count": 40,
   "metadata": {},
   "outputs": [
    {
     "name": "stdout",
     "output_type": "stream",
     "text": [
      "Test classification error is 0.2265625\n"
     ]
    }
   ],
   "source": [
    "# evaluate test error\n",
    "f_test = predict(w, x_test)\n",
    "diff = numpy.abs(f_test - y_test) / 2\n",
    "error_test = numpy.mean(diff)\n",
    "print('Test classification error is ' + str(error_test))"
   ]
  },
  {
   "cell_type": "markdown",
   "metadata": {},
   "source": [
    "# 6. Mini-batch SGD (fill the code)\n",
    "\n"
   ]
  },
  {
   "cell_type": "markdown",
   "metadata": {},
   "source": [
    "## 6.1. Compute the objective $Q_I$ and its gradient using a batch of samples\n",
    "\n",
    "Define $Q_I (w) = \\frac{1}{b} \\sum_{i \\in I} \\log \\Big( 1 + \\exp \\big( - y_i x_i^T w \\big) \\Big) + \\frac{\\lambda}{2} \\| w \\|_2^2 $, where $I$ is a set containing $b$ indices randomly drawn from $\\{ 1, \\cdots , n \\}$ without replacement.\n",
    "\n",
    "The stochastic gradient at $w$ is $g_I = \\frac{\\partial Q_I }{ \\partial w} = \\frac{1}{b} \\sum_{i \\in I} \\frac{- y_i x_i }{1 + \\exp ( y_i x_i^T w)} + \\lambda w$."
   ]
  },
  {
   "cell_type": "code",
   "execution_count": 41,
   "metadata": {},
   "outputs": [],
   "source": [
    "import numpy as np\n",
    "# Calculate the objective Q_I and the gradient of Q_I\n",
    "# Inputs:\n",
    "#     w: d-by-1 matrix\n",
    "#     xi: b-by-d matrix\n",
    "#     yi: b-by-1 matrix\n",
    "#     lam: scalar, the regularization parameter\n",
    "#     b: integer, the batch size\n",
    "# Return:\n",
    "#     obj: scalar, the objective Q_i\n",
    "#     g: d-by-1 matrix, gradient of Q_i\n",
    "def mb_stochastic_objective_gradient(w, xi, yi, lam, b):\n",
    "    # Fill the function\n",
    "    # Follow the implementation of stochastic_objective_gradient\n",
    "    # Use matrix-vector multiplication; do not use FOR LOOP of vector-vector multiplications\n",
    "    \n",
    "    yx = np.multiply(yi,xi) # b-by-d matrix\n",
    "    yxw = np.dot(yx,w) # b-by-1 matrix\n",
    "    vec1 = np.exp(-yxw) # b-by-1 matrix\n",
    "    vec2 = np.log(1 + vec1) # b-by-1 matrix\n",
    "    \n",
    "    # calculate objective function Q_I\n",
    "    loss = np.mean(vec2) # scalar\n",
    "    reg = lam / 2 * numpy.sum(w * w) # scalar\n",
    "    obj = loss + reg\n",
    "    \n",
    "    # calaulate the gradient of Q_i\n",
    "    vec3 = np.exp(yxw) # b-by-1 matrix\n",
    "    vec4 = np.divide(yx, 1 + vec3) # b-by-d matrix\n",
    "    vec5 = -np.mean(vec4, axis = 0).reshape(d, 1) #d−by−1matrix\n",
    "    g = vec5 + lam * w\n",
    "    return obj, g"
   ]
  },
  {
   "cell_type": "markdown",
   "metadata": {},
   "source": [
    "## 6.2. Implement mini-batch SGD\n",
    "\n",
    "Hints:\n",
    "1. In every epoch, randomly permute the $n$ samples (just like SGD).\n",
    "2. Each epoch has $\\frac{n}{b}$ iterations. In every iteration, use $b$ samples, and compute the gradient and objective using the ``mb_stochastic_objective_gradient`` function. In the next iteration, use the next $b$ samples, and so on.\n"
   ]
  },
  {
   "cell_type": "code",
   "execution_count": 42,
   "metadata": {},
   "outputs": [],
   "source": [
    "import numpy as np\n",
    "# Mini-Batch SGD for solving logistic regression\n",
    "# Inputs:\n",
    "#     x: n-by-d matrix\n",
    "#     y: n-by-1 matrix\n",
    "#     lam: scalar, the regularization parameter\n",
    "#     b: integer, the batch size\n",
    "#     stepsize: scalar\n",
    "#     max_epoch: integer, the maximal epochs\n",
    "#     w: d-by-1 matrix, initialization of w\n",
    "# Return:\n",
    "#     w: the solution\n",
    "#     objvals: record of each iteration's objective value\n",
    "def mb_sgd(x, y, lam, b, stepsize, max_epoch=100, w=None):\n",
    "    # Fill the function\n",
    "    # Follow the implementation of sgd\n",
    "    # Record one objective value per epoch (not per iteration!)\n",
    "    n, d = x.shape\n",
    "    objvals = numpy.zeros(max_epoch) # store the objective values\n",
    "    if w is None:\n",
    "        w = np.zeros((d,1)) # zero initialization\n",
    "        \n",
    "    for t in range(max_epoch):\n",
    "        # randomly shuffle the samples\n",
    "        rand_indices = np.random.permutation(n)\n",
    "        x_rand = x[rand_indices, :]\n",
    "        y_rand = y[rand_indices, :]\n",
    "        \n",
    "        objval = 0 # accumulate the objective values\n",
    "        iterations = int(n/b) # calculate the time of iterations\n",
    "        for i in range(iterations):\n",
    "            xi = x_rand[i*b:i*b + b, :] # b-by-d matrix \n",
    "            yi = y_rand[i*b:i*b + b, :] # b-by-1 matrix\n",
    "            obj,g = mb_stochastic_objective_gradient(w, xi, yi, lam, b)\n",
    "            objval += obj\n",
    "            w -= stepsize * g\n",
    "        stepsize *= 0.9 # decrease step size ; to be tuned\n",
    "        objval /= iterations\n",
    "        objvals[t] = objval\n",
    "        print('Objective value at epoch t=' + str(t) + ' is ' + str(objval))\n",
    "            \n",
    "    return w, objvals"
   ]
  },
  {
   "cell_type": "markdown",
   "metadata": {},
   "source": [
    "## 6.3. Run MB-SGD"
   ]
  },
  {
   "cell_type": "code",
   "execution_count": 43,
   "metadata": {},
   "outputs": [
    {
     "name": "stdout",
     "output_type": "stream",
     "text": [
      "Objective value at epoch t=0 is 0.5435507619236362\n",
      "Objective value at epoch t=1 is 0.4901644168865916\n",
      "Objective value at epoch t=2 is 0.4832293891979762\n",
      "Objective value at epoch t=3 is 0.4812161440854525\n",
      "Objective value at epoch t=4 is 0.47964248941923604\n",
      "Objective value at epoch t=5 is 0.4796812473314388\n",
      "Objective value at epoch t=6 is 0.4781212130334196\n",
      "Objective value at epoch t=7 is 0.4782766013231944\n",
      "Objective value at epoch t=8 is 0.47749203685714015\n",
      "Objective value at epoch t=9 is 0.47775555495017336\n",
      "Objective value at epoch t=10 is 0.477518726117922\n",
      "Objective value at epoch t=11 is 0.47683077698232246\n",
      "Objective value at epoch t=12 is 0.4763331345503943\n",
      "Objective value at epoch t=13 is 0.47648901917346526\n",
      "Objective value at epoch t=14 is 0.47595333388294936\n",
      "Objective value at epoch t=15 is 0.47575440480238634\n",
      "Objective value at epoch t=16 is 0.4755401653521563\n",
      "Objective value at epoch t=17 is 0.47543766663233145\n",
      "Objective value at epoch t=18 is 0.4753816086385396\n",
      "Objective value at epoch t=19 is 0.4752113814838772\n",
      "Objective value at epoch t=20 is 0.4751298409055714\n",
      "Objective value at epoch t=21 is 0.47489127001539416\n",
      "Objective value at epoch t=22 is 0.47487564936160753\n",
      "Objective value at epoch t=23 is 0.47482370179886824\n",
      "Objective value at epoch t=24 is 0.4746539950900048\n",
      "Objective value at epoch t=25 is 0.47466018804149046\n",
      "Objective value at epoch t=26 is 0.4745997089018464\n",
      "Objective value at epoch t=27 is 0.47451080468884504\n",
      "Objective value at epoch t=28 is 0.474416523768092\n",
      "Objective value at epoch t=29 is 0.474420522110708\n",
      "Objective value at epoch t=30 is 0.4743711529453277\n",
      "Objective value at epoch t=31 is 0.47432419404036297\n",
      "Objective value at epoch t=32 is 0.4742627363858398\n",
      "Objective value at epoch t=33 is 0.4742535807701995\n",
      "Objective value at epoch t=34 is 0.47420473466226315\n",
      "Objective value at epoch t=35 is 0.4741749263280307\n",
      "Objective value at epoch t=36 is 0.47420453971905674\n",
      "Objective value at epoch t=37 is 0.4741544362580026\n",
      "Objective value at epoch t=38 is 0.4741426583064963\n",
      "Objective value at epoch t=39 is 0.47410033343511737\n",
      "Objective value at epoch t=40 is 0.47409220353268705\n",
      "Objective value at epoch t=41 is 0.4740943474767878\n",
      "Objective value at epoch t=42 is 0.4740763672857858\n",
      "Objective value at epoch t=43 is 0.4740597811830565\n",
      "Objective value at epoch t=44 is 0.4740588369429754\n",
      "Objective value at epoch t=45 is 0.47403570425146524\n",
      "Objective value at epoch t=46 is 0.47403583640264096\n",
      "Objective value at epoch t=47 is 0.4740190135967895\n",
      "Objective value at epoch t=48 is 0.474021301515197\n",
      "Objective value at epoch t=49 is 0.47401822451253767\n",
      "Objective value at epoch t=50 is 0.47401066517707474\n",
      "Objective value at epoch t=51 is 0.4739971488453733\n",
      "Objective value at epoch t=52 is 0.4739995348443948\n",
      "Objective value at epoch t=53 is 0.47399458620932516\n",
      "Objective value at epoch t=54 is 0.4739935771169458\n",
      "Objective value at epoch t=55 is 0.4739893345032044\n",
      "Objective value at epoch t=56 is 0.47398640313145857\n",
      "Objective value at epoch t=57 is 0.473983492931187\n",
      "Objective value at epoch t=58 is 0.473980714445304\n",
      "Objective value at epoch t=59 is 0.4739797418674415\n",
      "Objective value at epoch t=60 is 0.47397641083978037\n",
      "Objective value at epoch t=61 is 0.4739758855301905\n",
      "Objective value at epoch t=62 is 0.47397234034243124\n",
      "Objective value at epoch t=63 is 0.47397337138234724\n",
      "Objective value at epoch t=64 is 0.4739711939027382\n",
      "Objective value at epoch t=65 is 0.47396989600682404\n",
      "Objective value at epoch t=66 is 0.47396923621795706\n",
      "Objective value at epoch t=67 is 0.4739684017777866\n",
      "Objective value at epoch t=68 is 0.47396767335859236\n",
      "Objective value at epoch t=69 is 0.47396658865170027\n",
      "Objective value at epoch t=70 is 0.4739657176510887\n",
      "Objective value at epoch t=71 is 0.4739652936644302\n",
      "Objective value at epoch t=72 is 0.4739654281801512\n",
      "Objective value at epoch t=73 is 0.4739652558889188\n",
      "Objective value at epoch t=74 is 0.47396397663059575\n",
      "Objective value at epoch t=75 is 0.47396411992393794\n",
      "Objective value at epoch t=76 is 0.47396364176888006\n",
      "Objective value at epoch t=77 is 0.47396329597371023\n",
      "Objective value at epoch t=78 is 0.47396301506057403\n",
      "Objective value at epoch t=79 is 0.4739627881310522\n",
      "Objective value at epoch t=80 is 0.4739626223650233\n",
      "Objective value at epoch t=81 is 0.47396240294688063\n",
      "Objective value at epoch t=82 is 0.4739621166050216\n",
      "Objective value at epoch t=83 is 0.4739620352741283\n",
      "Objective value at epoch t=84 is 0.47396182628407074\n",
      "Objective value at epoch t=85 is 0.4739617918461164\n",
      "Objective value at epoch t=86 is 0.47396153963243337\n",
      "Objective value at epoch t=87 is 0.47396150594596104\n",
      "Objective value at epoch t=88 is 0.4739613466601318\n",
      "Objective value at epoch t=89 is 0.4739613341949028\n",
      "Objective value at epoch t=90 is 0.47396127412261635\n",
      "Objective value at epoch t=91 is 0.47396117003724625\n",
      "Objective value at epoch t=92 is 0.4739610586351143\n",
      "Objective value at epoch t=93 is 0.4739610198217646\n",
      "Objective value at epoch t=94 is 0.4739609988563863\n",
      "Objective value at epoch t=95 is 0.47396088741926345\n",
      "Objective value at epoch t=96 is 0.4739608823873308\n",
      "Objective value at epoch t=97 is 0.47396085192735554\n",
      "Objective value at epoch t=98 is 0.47396080920456846\n",
      "Objective value at epoch t=99 is 0.4739607871763577\n"
     ]
    }
   ],
   "source": [
    "# MB-SGD with batch size b=8\n",
    "lam = 1E-6 # do not change\n",
    "b = 8 # do not change\n",
    "stepsize = 0.1 # you must tune this parameter\n",
    "\n",
    "w, objvals_mbsgd8 = mb_sgd(x_train, y_train, lam, b, stepsize)"
   ]
  },
  {
   "cell_type": "code",
   "execution_count": 44,
   "metadata": {},
   "outputs": [
    {
     "name": "stdout",
     "output_type": "stream",
     "text": [
      "Objective value at epoch t=0 is 0.5414368780616841\n",
      "Objective value at epoch t=1 is 0.4871453940789743\n",
      "Objective value at epoch t=2 is 0.4797180762184009\n",
      "Objective value at epoch t=3 is 0.48263367938956236\n",
      "Objective value at epoch t=4 is 0.4821693456661185\n",
      "Objective value at epoch t=5 is 0.48024053667285954\n",
      "Objective value at epoch t=6 is 0.47931175853556784\n",
      "Objective value at epoch t=7 is 0.4797112779296116\n",
      "Objective value at epoch t=8 is 0.47703878613737205\n",
      "Objective value at epoch t=9 is 0.47691149182506337\n",
      "Objective value at epoch t=10 is 0.4773967977875084\n",
      "Objective value at epoch t=11 is 0.47759511739486066\n",
      "Objective value at epoch t=12 is 0.47651209331311606\n",
      "Objective value at epoch t=13 is 0.4763684814781029\n",
      "Objective value at epoch t=14 is 0.47643181930746953\n",
      "Objective value at epoch t=15 is 0.4758069215019005\n",
      "Objective value at epoch t=16 is 0.4763032158864061\n",
      "Objective value at epoch t=17 is 0.4754984524980149\n",
      "Objective value at epoch t=18 is 0.4754506298126106\n",
      "Objective value at epoch t=19 is 0.47550765927320116\n",
      "Objective value at epoch t=20 is 0.47593640192149567\n",
      "Objective value at epoch t=21 is 0.47537451753057314\n",
      "Objective value at epoch t=22 is 0.47502628234552785\n",
      "Objective value at epoch t=23 is 0.47495121140476526\n",
      "Objective value at epoch t=24 is 0.47495585201535384\n",
      "Objective value at epoch t=25 is 0.4746730416312463\n",
      "Objective value at epoch t=26 is 0.47459391367931725\n",
      "Objective value at epoch t=27 is 0.47481906129258633\n",
      "Objective value at epoch t=28 is 0.4746436527494355\n",
      "Objective value at epoch t=29 is 0.4744995390549066\n",
      "Objective value at epoch t=30 is 0.4743919212308992\n",
      "Objective value at epoch t=31 is 0.47451395382800393\n",
      "Objective value at epoch t=32 is 0.4743924461462273\n",
      "Objective value at epoch t=33 is 0.4742979345258812\n",
      "Objective value at epoch t=34 is 0.4742924743706734\n",
      "Objective value at epoch t=35 is 0.47423902357671766\n",
      "Objective value at epoch t=36 is 0.4741199930108597\n",
      "Objective value at epoch t=37 is 0.4742409276190018\n",
      "Objective value at epoch t=38 is 0.4741636273990449\n",
      "Objective value at epoch t=39 is 0.47418949063768984\n",
      "Objective value at epoch t=40 is 0.4740997755118772\n",
      "Objective value at epoch t=41 is 0.47413434882264094\n",
      "Objective value at epoch t=42 is 0.4740982913690699\n",
      "Objective value at epoch t=43 is 0.47405120920186483\n",
      "Objective value at epoch t=44 is 0.474062758212741\n",
      "Objective value at epoch t=45 is 0.4740418657551829\n",
      "Objective value at epoch t=46 is 0.4740185534168525\n",
      "Objective value at epoch t=47 is 0.47404081777711377\n",
      "Objective value at epoch t=48 is 0.47402265447077313\n",
      "Objective value at epoch t=49 is 0.474033258325704\n",
      "Objective value at epoch t=50 is 0.4740260728428548\n",
      "Objective value at epoch t=51 is 0.47400418086825064\n",
      "Objective value at epoch t=52 is 0.47400762416949044\n",
      "Objective value at epoch t=53 is 0.4739955512543818\n",
      "Objective value at epoch t=54 is 0.4739962410475501\n",
      "Objective value at epoch t=55 is 0.4739875616911588\n",
      "Objective value at epoch t=56 is 0.4739887439040477\n",
      "Objective value at epoch t=57 is 0.47398454325090944\n",
      "Objective value at epoch t=58 is 0.47398393504184533\n",
      "Objective value at epoch t=59 is 0.4739762709092947\n",
      "Objective value at epoch t=60 is 0.4739821041647203\n",
      "Objective value at epoch t=61 is 0.47397562373931457\n",
      "Objective value at epoch t=62 is 0.4739763406231897\n",
      "Objective value at epoch t=63 is 0.4739735554275965\n",
      "Objective value at epoch t=64 is 0.4739773184214102\n",
      "Objective value at epoch t=65 is 0.47397164787110385\n",
      "Objective value at epoch t=66 is 0.473969589255011\n",
      "Objective value at epoch t=67 is 0.47396846312396335\n",
      "Objective value at epoch t=68 is 0.47396777007316004\n",
      "Objective value at epoch t=69 is 0.47396645469262466\n",
      "Objective value at epoch t=70 is 0.4739669739036647\n",
      "Objective value at epoch t=71 is 0.4739670043193259\n",
      "Objective value at epoch t=72 is 0.4739670748002\n",
      "Objective value at epoch t=73 is 0.4739650566908442\n",
      "Objective value at epoch t=74 is 0.4739640159239814\n",
      "Objective value at epoch t=75 is 0.4739631138500219\n",
      "Objective value at epoch t=76 is 0.47396444854310005\n",
      "Objective value at epoch t=77 is 0.4739633487626689\n",
      "Objective value at epoch t=78 is 0.4739629527327118\n",
      "Objective value at epoch t=79 is 0.4739634810187227\n",
      "Objective value at epoch t=80 is 0.47396290591060736\n",
      "Objective value at epoch t=81 is 0.4739619647543344\n",
      "Objective value at epoch t=82 is 0.47396227397442264\n",
      "Objective value at epoch t=83 is 0.47396196802092083\n",
      "Objective value at epoch t=84 is 0.4739618822509553\n",
      "Objective value at epoch t=85 is 0.47396219607852075\n",
      "Objective value at epoch t=86 is 0.473961381626276\n",
      "Objective value at epoch t=87 is 0.47396158080966666\n",
      "Objective value at epoch t=88 is 0.47396118802216697\n",
      "Objective value at epoch t=89 is 0.47396128327421544\n",
      "Objective value at epoch t=90 is 0.47396128734524173\n",
      "Objective value at epoch t=91 is 0.4739613459381686\n",
      "Objective value at epoch t=92 is 0.4739612398811312\n",
      "Objective value at epoch t=93 is 0.4739610219654204\n",
      "Objective value at epoch t=94 is 0.4739608534742795\n",
      "Objective value at epoch t=95 is 0.4739608610443346\n",
      "Objective value at epoch t=96 is 0.47396079185732176\n",
      "Objective value at epoch t=97 is 0.4739608052886723\n",
      "Objective value at epoch t=98 is 0.47396079323542145\n",
      "Objective value at epoch t=99 is 0.47396072504276765\n"
     ]
    }
   ],
   "source": [
    "# MB-SGD with batch size b=64\n",
    "lam = 1E-6 # do not change\n",
    "b = 64 # do not change\n",
    "stepsize = 1 # you must tune this parameter\n",
    "\n",
    "w, objvals_mbsgd64 = mb_sgd(x_train, y_train, lam, b, stepsize)"
   ]
  },
  {
   "cell_type": "markdown",
   "metadata": {},
   "source": [
    "# 7. Plot and compare GD, SGD, and MB-SGD"
   ]
  },
  {
   "cell_type": "markdown",
   "metadata": {},
   "source": [
    "You are required to compare the following algorithms:\n",
    "\n",
    "- Gradient descent (GD)\n",
    "\n",
    "- SGD\n",
    "\n",
    "- MB-SGD with b=8\n",
    "\n",
    "- MB-SGD with b=64\n",
    "\n",
    "Follow the code in Section 4 to plot ```objective function value``` against ```epochs```. There should be four curves in the plot; each curve corresponds to one algorithm."
   ]
  },
  {
   "cell_type": "markdown",
   "metadata": {},
   "source": [
    "Hint: Logistic regression with $\\ell_2$-norm regularization is a strongly convex optimization problem. All the algorithms will converge to the same solution. **In the end, the ``objective function value`` of the 4 algorithms will be the same. If not the same, your implementation must be wrong. Do NOT submit wrong code and wrong result!**"
   ]
  },
  {
   "cell_type": "code",
   "execution_count": 45,
   "metadata": {},
   "outputs": [
    {
     "data": {
      "image/png": "[encoded data removed]",
      "text/plain": [
       "<Figure size 432x288 with 1 Axes>"
      ]
     },
     "metadata": {
      "needs_background": "light"
     },
     "output_type": "display_data"
    }
   ],
   "source": [
    "# plot the 4 curves:\n",
    "import matplotlib.pyplot as plt\n",
    "%matplotlib inline\n",
    "\n",
    "fig = plt.figure(figsize=(6, 4))\n",
    "\n",
    "epochs_gd = range(len(objvals_gd))\n",
    "epochs_sgd = range(len(objvals_sgd))\n",
    "epochs_mbsgd_8 = range(len(objvals_mbsgd8))\n",
    "epochs_mbsgd_64 = range(len(objvals_mbsgd64))\n",
    "\n",
    "\n",
    "line0, = plt.plot(epochs_gd, objvals_gd, '--b', LineWidth=4)\n",
    "line1, = plt.plot(epochs_sgd, objvals_sgd, '-r', LineWidth=2)\n",
    "line2, = plt.plot(epochs_mbsgd_8, objvals_mbsgd8,'-g' )\n",
    "line3, = plt.plot(epochs_mbsgd_64, objvals_mbsgd64,'--y' )\n",
    "plt.xlabel('Epochs', FontSize=20)\n",
    "plt.ylabel('Objective Value', FontSize=20)\n",
    "plt.xticks(FontSize=16)\n",
    "plt.yticks(FontSize=16)\n",
    "plt.legend([line0, line1, line2, line3 ], ['GD', 'SGD', 'mbsgd8', 'mbsgd64'], fontsize=20)\n",
    "plt.tight_layout()\n",
    "plt.show()\n",
    "fig.savefig('compare_gd_sgd.pdf', format='pdf', dpi=1200)"
   ]
  },
  {
   "cell_type": "markdown",
   "metadata": {},
   "source": [
    "### As we see from the plot above, these 4 algorithms all converge to the same solution, which is 0.47396. The difference is that mini-batch SGD algorithm converges at very early epoch and much more earlier than GD and SGD. GD converges earlier than SGD. "
   ]
  },
  {
   "cell_type": "code",
   "execution_count": null,
   "metadata": {},
   "outputs": [],
   "source": []
  }
 ],
 "metadata": {
  "kernelspec": {
   "display_name": "Python 3",
   "language": "python",
   "name": "python3"
  },
  "language_info": {
   "codemirror_mode": {
    "name": "ipython",
    "version": 3
   },
   "file_extension": ".py",
   "mimetype": "text/x-python",
   "name": "python",
   "nbconvert_exporter": "python",
   "pygments_lexer": "ipython3",
   "version": "3.7.1"
  }
 },
 "nbformat": 4,
 "nbformat_minor": 2
}
